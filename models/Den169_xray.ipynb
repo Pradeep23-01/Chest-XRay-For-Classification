{
 "metadata": {
  "language_info": {
   "codemirror_mode": {
    "name": "ipython",
    "version": 3
   },
   "file_extension": ".py",
   "mimetype": "text/x-python",
   "name": "python",
   "nbconvert_exporter": "python",
   "pygments_lexer": "ipython3",
   "version": "3.8.5"
  },
  "orig_nbformat": 2,
  "kernelspec": {
   "name": "python3",
   "display_name": "Python 3.8.5 64-bit ('base': conda)"
  },
  "interpreter": {
   "hash": "b64de0ba76e769a7c3088015f258876bdb4240a199c36c507f14d2fb10bd5d74"
  }
 },
 "nbformat": 4,
 "nbformat_minor": 2,
 "cells": [
  {
   "cell_type": "code",
   "execution_count": 17,
   "metadata": {},
   "outputs": [],
   "source": [
    "import numpy as np\n",
    "import tensorflow as tf\n",
    "from tensorflow import keras\n",
    "from tensorflow.keras import layers\n",
    "import tensorflow_addons as tfa\n"
   ]
  },
  {
   "cell_type": "code",
   "execution_count": 18,
   "metadata": {},
   "outputs": [],
   "source": [
    "TRAINING_DIR = 'F:/Xray_Gaus/train'\n",
    "TEST_DIR='F:/Xray_Gaus/test'\n",
    "VAL_DIR='F:/Xray_Gaus/val'\n"
   ]
  },
  {
   "cell_type": "code",
   "execution_count": 19,
   "metadata": {},
   "outputs": [],
   "source": [
    "num_classes = 2\n",
    "IMG_SIZE = 224\n",
    "BATCH_SIZE = 32\n",
    "input_shape = (224,224, 3)\n",
    "\n",
    "learning_rate = 0.001\n",
    "weight_decay = 0.0001\n",
    "num_epochs = 10"
   ]
  },
  {
   "cell_type": "code",
   "execution_count": 20,
   "metadata": {},
   "outputs": [
    {
     "output_type": "stream",
     "name": "stdout",
     "text": [
      "Found 350 images belonging to 2 classes.\n"
     ]
    }
   ],
   "source": [
    "from keras_preprocessing.image import ImageDataGenerator\n",
    "\n",
    "# Training IDG\n",
    "train_idg = ImageDataGenerator(\n",
    "    rescale = 1./255, \n",
    "    rotation_range=10,\n",
    "    width_shift_range=0.1,\n",
    "    height_shift_range=0.1, \n",
    "    shear_range=0.1, \n",
    "    zoom_range=0.1,\n",
    "    horizontal_flip=True)\n",
    "\n",
    "# Training Gen\n",
    "train_gen = train_idg.flow_from_directory(\n",
    "    TRAINING_DIR,\n",
    "    target_size=(IMG_SIZE,IMG_SIZE),\n",
    "    batch_size=BATCH_SIZE,\n",
    "    shuffle=True,\n",
    "    class_mode='binary',\n",
    "    classes=['normal_175_2','COVID-19'],\n",
    "    subset='training'\n",
    ") "
   ]
  },
  {
   "cell_type": "code",
   "execution_count": 21,
   "metadata": {},
   "outputs": [
    {
     "output_type": "stream",
     "name": "stdout",
     "text": [
      "Found 40 images belonging to 2 classes.\n"
     ]
    }
   ],
   "source": [
    "val_idg = ImageDataGenerator(\n",
    "    rescale = 1./255, \n",
    "    rotation_range=10,\n",
    "    width_shift_range=0.1,\n",
    "    height_shift_range=0.1, \n",
    "    shear_range=0.1, \n",
    "    zoom_range=0.1,\n",
    "    horizontal_flip=True)\n",
    "\n",
    "# Training Gen\n",
    "val_gen = val_idg.flow_from_directory(\n",
    "    VAL_DIR,\n",
    "    target_size=(IMG_SIZE,IMG_SIZE),\n",
    "    batch_size=BATCH_SIZE,\n",
    "    shuffle=True,\n",
    "    class_mode='binary',\n",
    "    classes=['normal_20_2','COVID-19'],\n",
    "    subset='training'\n",
    ")"
   ]
  },
  {
   "cell_type": "code",
   "execution_count": 22,
   "metadata": {},
   "outputs": [
    {
     "output_type": "stream",
     "name": "stdout",
     "text": [
      "Found 40 images belonging to 2 classes.\n"
     ]
    }
   ],
   "source": [
    "test_idg = ImageDataGenerator(rescale=1./255)\n",
    "\n",
    "# Test Gen\n",
    "test_gen = test_idg.flow_from_directory(\n",
    "        TEST_DIR,\n",
    "        target_size=(IMG_SIZE, IMG_SIZE),\n",
    "        shuffle=True,\n",
    "        class_mode='binary',\n",
    "    classes=['normal_20_2','COVID-19'],\n",
    "        #subset='validation'\n",
    ")"
   ]
  },
  {
   "cell_type": "code",
   "execution_count": 23,
   "metadata": {
    "tags": [
     "outputPrepend"
    ]
   },
   "outputs": [
    {
     "output_type": "stream",
     "name": "stdout",
     "text": [
      "___________\nconv5_block21_0_relu (Activatio (None, 7, 7, 1280)   0           conv5_block21_0_bn[0][0]         \n__________________________________________________________________________________________________\nconv5_block21_1_conv (Conv2D)   (None, 7, 7, 128)    163840      conv5_block21_0_relu[0][0]       \n__________________________________________________________________________________________________\nconv5_block21_1_bn (BatchNormal (None, 7, 7, 128)    512         conv5_block21_1_conv[0][0]       \n__________________________________________________________________________________________________\nconv5_block21_1_relu (Activatio (None, 7, 7, 128)    0           conv5_block21_1_bn[0][0]         \n__________________________________________________________________________________________________\nconv5_block21_2_conv (Conv2D)   (None, 7, 7, 32)     36864       conv5_block21_1_relu[0][0]       \n__________________________________________________________________________________________________\nconv5_block21_concat (Concatena (None, 7, 7, 1312)   0           conv5_block20_concat[0][0]       \n                                                                 conv5_block21_2_conv[0][0]       \n__________________________________________________________________________________________________\nconv5_block22_0_bn (BatchNormal (None, 7, 7, 1312)   5248        conv5_block21_concat[0][0]       \n__________________________________________________________________________________________________\nconv5_block22_0_relu (Activatio (None, 7, 7, 1312)   0           conv5_block22_0_bn[0][0]         \n__________________________________________________________________________________________________\nconv5_block22_1_conv (Conv2D)   (None, 7, 7, 128)    167936      conv5_block22_0_relu[0][0]       \n__________________________________________________________________________________________________\nconv5_block22_1_bn (BatchNormal (None, 7, 7, 128)    512         conv5_block22_1_conv[0][0]       \n__________________________________________________________________________________________________\nconv5_block22_1_relu (Activatio (None, 7, 7, 128)    0           conv5_block22_1_bn[0][0]         \n__________________________________________________________________________________________________\nconv5_block22_2_conv (Conv2D)   (None, 7, 7, 32)     36864       conv5_block22_1_relu[0][0]       \n__________________________________________________________________________________________________\nconv5_block22_concat (Concatena (None, 7, 7, 1344)   0           conv5_block21_concat[0][0]       \n                                                                 conv5_block22_2_conv[0][0]       \n__________________________________________________________________________________________________\nconv5_block23_0_bn (BatchNormal (None, 7, 7, 1344)   5376        conv5_block22_concat[0][0]       \n__________________________________________________________________________________________________\nconv5_block23_0_relu (Activatio (None, 7, 7, 1344)   0           conv5_block23_0_bn[0][0]         \n__________________________________________________________________________________________________\nconv5_block23_1_conv (Conv2D)   (None, 7, 7, 128)    172032      conv5_block23_0_relu[0][0]       \n__________________________________________________________________________________________________\nconv5_block23_1_bn (BatchNormal (None, 7, 7, 128)    512         conv5_block23_1_conv[0][0]       \n__________________________________________________________________________________________________\nconv5_block23_1_relu (Activatio (None, 7, 7, 128)    0           conv5_block23_1_bn[0][0]         \n__________________________________________________________________________________________________\nconv5_block23_2_conv (Conv2D)   (None, 7, 7, 32)     36864       conv5_block23_1_relu[0][0]       \n__________________________________________________________________________________________________\nconv5_block23_concat (Concatena (None, 7, 7, 1376)   0           conv5_block22_concat[0][0]       \n                                                                 conv5_block23_2_conv[0][0]       \n__________________________________________________________________________________________________\nconv5_block24_0_bn (BatchNormal (None, 7, 7, 1376)   5504        conv5_block23_concat[0][0]       \n__________________________________________________________________________________________________\nconv5_block24_0_relu (Activatio (None, 7, 7, 1376)   0           conv5_block24_0_bn[0][0]         \n__________________________________________________________________________________________________\nconv5_block24_1_conv (Conv2D)   (None, 7, 7, 128)    176128      conv5_block24_0_relu[0][0]       \n__________________________________________________________________________________________________\nconv5_block24_1_bn (BatchNormal (None, 7, 7, 128)    512         conv5_block24_1_conv[0][0]       \n__________________________________________________________________________________________________\nconv5_block24_1_relu (Activatio (None, 7, 7, 128)    0           conv5_block24_1_bn[0][0]         \n__________________________________________________________________________________________________\nconv5_block24_2_conv (Conv2D)   (None, 7, 7, 32)     36864       conv5_block24_1_relu[0][0]       \n__________________________________________________________________________________________________\nconv5_block24_concat (Concatena (None, 7, 7, 1408)   0           conv5_block23_concat[0][0]       \n                                                                 conv5_block24_2_conv[0][0]       \n__________________________________________________________________________________________________\nconv5_block25_0_bn (BatchNormal (None, 7, 7, 1408)   5632        conv5_block24_concat[0][0]       \n__________________________________________________________________________________________________\nconv5_block25_0_relu (Activatio (None, 7, 7, 1408)   0           conv5_block25_0_bn[0][0]         \n__________________________________________________________________________________________________\nconv5_block25_1_conv (Conv2D)   (None, 7, 7, 128)    180224      conv5_block25_0_relu[0][0]       \n__________________________________________________________________________________________________\nconv5_block25_1_bn (BatchNormal (None, 7, 7, 128)    512         conv5_block25_1_conv[0][0]       \n__________________________________________________________________________________________________\nconv5_block25_1_relu (Activatio (None, 7, 7, 128)    0           conv5_block25_1_bn[0][0]         \n__________________________________________________________________________________________________\nconv5_block25_2_conv (Conv2D)   (None, 7, 7, 32)     36864       conv5_block25_1_relu[0][0]       \n__________________________________________________________________________________________________\nconv5_block25_concat (Concatena (None, 7, 7, 1440)   0           conv5_block24_concat[0][0]       \n                                                                 conv5_block25_2_conv[0][0]       \n__________________________________________________________________________________________________\nconv5_block26_0_bn (BatchNormal (None, 7, 7, 1440)   5760        conv5_block25_concat[0][0]       \n__________________________________________________________________________________________________\nconv5_block26_0_relu (Activatio (None, 7, 7, 1440)   0           conv5_block26_0_bn[0][0]         \n__________________________________________________________________________________________________\nconv5_block26_1_conv (Conv2D)   (None, 7, 7, 128)    184320      conv5_block26_0_relu[0][0]       \n__________________________________________________________________________________________________\nconv5_block26_1_bn (BatchNormal (None, 7, 7, 128)    512         conv5_block26_1_conv[0][0]       \n__________________________________________________________________________________________________\nconv5_block26_1_relu (Activatio (None, 7, 7, 128)    0           conv5_block26_1_bn[0][0]         \n__________________________________________________________________________________________________\nconv5_block26_2_conv (Conv2D)   (None, 7, 7, 32)     36864       conv5_block26_1_relu[0][0]       \n__________________________________________________________________________________________________\nconv5_block26_concat (Concatena (None, 7, 7, 1472)   0           conv5_block25_concat[0][0]       \n                                                                 conv5_block26_2_conv[0][0]       \n__________________________________________________________________________________________________\nconv5_block27_0_bn (BatchNormal (None, 7, 7, 1472)   5888        conv5_block26_concat[0][0]       \n__________________________________________________________________________________________________\nconv5_block27_0_relu (Activatio (None, 7, 7, 1472)   0           conv5_block27_0_bn[0][0]         \n__________________________________________________________________________________________________\nconv5_block27_1_conv (Conv2D)   (None, 7, 7, 128)    188416      conv5_block27_0_relu[0][0]       \n__________________________________________________________________________________________________\nconv5_block27_1_bn (BatchNormal (None, 7, 7, 128)    512         conv5_block27_1_conv[0][0]       \n__________________________________________________________________________________________________\nconv5_block27_1_relu (Activatio (None, 7, 7, 128)    0           conv5_block27_1_bn[0][0]         \n__________________________________________________________________________________________________\nconv5_block27_2_conv (Conv2D)   (None, 7, 7, 32)     36864       conv5_block27_1_relu[0][0]       \n__________________________________________________________________________________________________\nconv5_block27_concat (Concatena (None, 7, 7, 1504)   0           conv5_block26_concat[0][0]       \n                                                                 conv5_block27_2_conv[0][0]       \n__________________________________________________________________________________________________\nconv5_block28_0_bn (BatchNormal (None, 7, 7, 1504)   6016        conv5_block27_concat[0][0]       \n__________________________________________________________________________________________________\nconv5_block28_0_relu (Activatio (None, 7, 7, 1504)   0           conv5_block28_0_bn[0][0]         \n__________________________________________________________________________________________________\nconv5_block28_1_conv (Conv2D)   (None, 7, 7, 128)    192512      conv5_block28_0_relu[0][0]       \n__________________________________________________________________________________________________\nconv5_block28_1_bn (BatchNormal (None, 7, 7, 128)    512         conv5_block28_1_conv[0][0]       \n__________________________________________________________________________________________________\nconv5_block28_1_relu (Activatio (None, 7, 7, 128)    0           conv5_block28_1_bn[0][0]         \n__________________________________________________________________________________________________\nconv5_block28_2_conv (Conv2D)   (None, 7, 7, 32)     36864       conv5_block28_1_relu[0][0]       \n__________________________________________________________________________________________________\nconv5_block28_concat (Concatena (None, 7, 7, 1536)   0           conv5_block27_concat[0][0]       \n                                                                 conv5_block28_2_conv[0][0]       \n__________________________________________________________________________________________________\nconv5_block29_0_bn (BatchNormal (None, 7, 7, 1536)   6144        conv5_block28_concat[0][0]       \n__________________________________________________________________________________________________\nconv5_block29_0_relu (Activatio (None, 7, 7, 1536)   0           conv5_block29_0_bn[0][0]         \n__________________________________________________________________________________________________\nconv5_block29_1_conv (Conv2D)   (None, 7, 7, 128)    196608      conv5_block29_0_relu[0][0]       \n__________________________________________________________________________________________________\nconv5_block29_1_bn (BatchNormal (None, 7, 7, 128)    512         conv5_block29_1_conv[0][0]       \n__________________________________________________________________________________________________\nconv5_block29_1_relu (Activatio (None, 7, 7, 128)    0           conv5_block29_1_bn[0][0]         \n__________________________________________________________________________________________________\nconv5_block29_2_conv (Conv2D)   (None, 7, 7, 32)     36864       conv5_block29_1_relu[0][0]       \n__________________________________________________________________________________________________\nconv5_block29_concat (Concatena (None, 7, 7, 1568)   0           conv5_block28_concat[0][0]       \n                                                                 conv5_block29_2_conv[0][0]       \n__________________________________________________________________________________________________\nconv5_block30_0_bn (BatchNormal (None, 7, 7, 1568)   6272        conv5_block29_concat[0][0]       \n__________________________________________________________________________________________________\nconv5_block30_0_relu (Activatio (None, 7, 7, 1568)   0           conv5_block30_0_bn[0][0]         \n__________________________________________________________________________________________________\nconv5_block30_1_conv (Conv2D)   (None, 7, 7, 128)    200704      conv5_block30_0_relu[0][0]       \n__________________________________________________________________________________________________\nconv5_block30_1_bn (BatchNormal (None, 7, 7, 128)    512         conv5_block30_1_conv[0][0]       \n__________________________________________________________________________________________________\nconv5_block30_1_relu (Activatio (None, 7, 7, 128)    0           conv5_block30_1_bn[0][0]         \n__________________________________________________________________________________________________\nconv5_block30_2_conv (Conv2D)   (None, 7, 7, 32)     36864       conv5_block30_1_relu[0][0]       \n__________________________________________________________________________________________________\nconv5_block30_concat (Concatena (None, 7, 7, 1600)   0           conv5_block29_concat[0][0]       \n                                                                 conv5_block30_2_conv[0][0]       \n__________________________________________________________________________________________________\nconv5_block31_0_bn (BatchNormal (None, 7, 7, 1600)   6400        conv5_block30_concat[0][0]       \n__________________________________________________________________________________________________\nconv5_block31_0_relu (Activatio (None, 7, 7, 1600)   0           conv5_block31_0_bn[0][0]         \n__________________________________________________________________________________________________\nconv5_block31_1_conv (Conv2D)   (None, 7, 7, 128)    204800      conv5_block31_0_relu[0][0]       \n__________________________________________________________________________________________________\nconv5_block31_1_bn (BatchNormal (None, 7, 7, 128)    512         conv5_block31_1_conv[0][0]       \n__________________________________________________________________________________________________\nconv5_block31_1_relu (Activatio (None, 7, 7, 128)    0           conv5_block31_1_bn[0][0]         \n__________________________________________________________________________________________________\nconv5_block31_2_conv (Conv2D)   (None, 7, 7, 32)     36864       conv5_block31_1_relu[0][0]       \n__________________________________________________________________________________________________\nconv5_block31_concat (Concatena (None, 7, 7, 1632)   0           conv5_block30_concat[0][0]       \n                                                                 conv5_block31_2_conv[0][0]       \n__________________________________________________________________________________________________\nconv5_block32_0_bn (BatchNormal (None, 7, 7, 1632)   6528        conv5_block31_concat[0][0]       \n__________________________________________________________________________________________________\nconv5_block32_0_relu (Activatio (None, 7, 7, 1632)   0           conv5_block32_0_bn[0][0]         \n__________________________________________________________________________________________________\nconv5_block32_1_conv (Conv2D)   (None, 7, 7, 128)    208896      conv5_block32_0_relu[0][0]       \n__________________________________________________________________________________________________\nconv5_block32_1_bn (BatchNormal (None, 7, 7, 128)    512         conv5_block32_1_conv[0][0]       \n__________________________________________________________________________________________________\nconv5_block32_1_relu (Activatio (None, 7, 7, 128)    0           conv5_block32_1_bn[0][0]         \n__________________________________________________________________________________________________\nconv5_block32_2_conv (Conv2D)   (None, 7, 7, 32)     36864       conv5_block32_1_relu[0][0]       \n__________________________________________________________________________________________________\nconv5_block32_concat (Concatena (None, 7, 7, 1664)   0           conv5_block31_concat[0][0]       \n                                                                 conv5_block32_2_conv[0][0]       \n__________________________________________________________________________________________________\nbn (BatchNormalization)         (None, 7, 7, 1664)   6656        conv5_block32_concat[0][0]       \n__________________________________________________________________________________________________\nrelu (Activation)               (None, 7, 7, 1664)   0           bn[0][0]                         \n__________________________________________________________________________________________________\nflatten_1 (Flatten)             (None, 81536)        0           relu[0][0]                       \n__________________________________________________________________________________________________\ndropout_3 (Dropout)             (None, 81536)        0           flatten_1[0][0]                  \n__________________________________________________________________________________________________\ndense_3 (Dense)                 (None, 2048)         166987776   dropout_3[0][0]                  \n__________________________________________________________________________________________________\nbatch_normalization_2 (BatchNor (None, 2048)         8192        dense_3[0][0]                    \n__________________________________________________________________________________________________\ndropout_4 (Dropout)             (None, 2048)         0           batch_normalization_2[0][0]      \n__________________________________________________________________________________________________\ndense_4 (Dense)                 (None, 2048)         4196352     dropout_4[0][0]                  \n__________________________________________________________________________________________________\nbatch_normalization_3 (BatchNor (None, 2048)         8192        dense_4[0][0]                    \n__________________________________________________________________________________________________\ndropout_5 (Dropout)             (None, 2048)         0           batch_normalization_3[0][0]      \n__________________________________________________________________________________________________\ndense_5 (Dense)                 (None, 1)            2049        dropout_5[0][0]                  \n==================================================================================================\nTotal params: 183,845,441\nTrainable params: 171,194,369\nNon-trainable params: 12,651,072\n__________________________________________________________________________________________________\n"
     ]
    }
   ],
   "source": [
    "inputs = keras.Input(shape=(IMG_SIZE, IMG_SIZE, 3))\n",
    "\n",
    "from tensorflow.keras.optimizers import Adam\n",
    "\n",
    "base_model = keras.applications.DenseNet169(\n",
    "    weights = 'imagenet',\n",
    "    input_shape=(IMG_SIZE, IMG_SIZE, 3),\n",
    "    include_top=False)\n",
    "\n",
    "base_model.trainable = False\n",
    "\n",
    "x = base_model.output\n",
    "x = keras.layers.Flatten()(x)\n",
    "x = keras.layers.Dropout(0.4)(x)\n",
    "x = keras.layers.Dense(2048, activation='relu')(x)\n",
    "x = keras.layers.BatchNormalization()(x)\n",
    "x = keras.layers.Dropout(0.4)(x)\n",
    "x = keras.layers.Dense(2048, activation='relu')(x)\n",
    "x = keras.layers.BatchNormalization()(x)\n",
    "x = keras.layers.Dropout(0.2)(x)\n",
    "outputs = keras.layers.Dense(1, activation='sigmoid')(x)\n",
    "\n",
    "# se acopla el modelo\n",
    "model = keras.Model(base_model.input, outputs)\n",
    "\n",
    "# congelar capas\n",
    "for layer in base_model.layers:\n",
    "    layer.trainable = False\n",
    "\n",
    "# compilar el modelo.\n",
    "model.compile(loss='binary_crossentropy',\n",
    "              optimizer=Adam(lr=0.001),\n",
    "              metrics=['accuracy',\n",
    "        tf.keras.metrics.Precision(name='precision'),\n",
    "        tf.keras.metrics.Recall(name='recall')]\n",
    "        )\n",
    "\n",
    "model.summary()"
   ]
  },
  {
   "cell_type": "code",
   "execution_count": 24,
   "metadata": {},
   "outputs": [
    {
     "output_type": "stream",
     "name": "stdout",
     "text": [
      "Epoch 1/5\n",
      "10/10 [==============================] - 50s 4s/step - loss: 1.0078 - accuracy: 0.6805 - precision: 0.7303 - recall: 0.6510 - val_loss: 35.5954 - val_accuracy: 0.5938 - val_precision: 0.0000e+00 - val_recall: 0.0000e+00\n",
      "Epoch 2/5\n",
      "10/10 [==============================] - 32s 3s/step - loss: 0.6675 - accuracy: 0.8886 - precision: 0.8986 - recall: 0.8773 - val_loss: 30.9636 - val_accuracy: 0.5000 - val_precision: 1.0000 - val_recall: 0.0588\n",
      "Epoch 3/5\n",
      "10/10 [==============================] - 33s 3s/step - loss: 0.3393 - accuracy: 0.9238 - precision: 0.9175 - recall: 0.9341 - val_loss: 2.7114 - val_accuracy: 0.9375 - val_precision: 1.0000 - val_recall: 0.8750\n",
      "Epoch 4/5\n",
      "10/10 [==============================] - 33s 3s/step - loss: 0.1546 - accuracy: 0.9555 - precision: 0.9605 - recall: 0.9507 - val_loss: 1.7070 - val_accuracy: 0.9688 - val_precision: 1.0000 - val_recall: 0.9333\n",
      "Epoch 5/5\n",
      "10/10 [==============================] - 33s 3s/step - loss: 0.3510 - accuracy: 0.9049 - precision: 0.9128 - recall: 0.9074 - val_loss: 6.4099 - val_accuracy: 0.6875 - val_precision: 1.0000 - val_recall: 0.4737\n"
     ]
    }
   ],
   "source": [
    "STEP_SIZE_TRAIN = train_gen.n // train_gen.batch_size\n",
    "STEP_SIZE_VALID = val_gen.n // val_gen.batch_size\n",
    "\n",
    "history=model.fit(x = train_gen,\n",
    "          steps_per_epoch = STEP_SIZE_TRAIN,\n",
    "          validation_data = val_gen,\n",
    "          validation_steps = STEP_SIZE_VALID,\n",
    "          epochs = 5)"
   ]
  },
  {
   "cell_type": "code",
   "execution_count": 25,
   "metadata": {},
   "outputs": [
    {
     "output_type": "stream",
     "name": "stdout",
     "text": [
      "INFO:tensorflow:Assets written to: F:/X_ray_Models/Densenet169_xray_model_174_2\\assets\n"
     ]
    },
    {
     "output_type": "execute_result",
     "data": {
      "text/plain": [
       "{'loss': [0.9114088416099548,\n",
       "  0.5688731074333191,\n",
       "  0.27531659603118896,\n",
       "  0.11968731135129929,\n",
       "  0.34408867359161377],\n",
       " 'accuracy': [0.7861635088920593,\n",
       "  0.902515709400177,\n",
       "  0.9375,\n",
       "  0.9654088020324707,\n",
       "  0.9150943160057068],\n",
       " 'precision': [0.8012422323226929,\n",
       "  0.9155844449996948,\n",
       "  0.9320987462997437,\n",
       "  0.9683544039726257,\n",
       "  0.9068322777748108],\n",
       " 'recall': [0.7818182110786438,\n",
       "  0.8867924809455872,\n",
       "  0.9437500238418579,\n",
       "  0.9622641801834106,\n",
       "  0.9240506291389465],\n",
       " 'val_loss': [35.595367431640625,\n",
       "  30.96356773376465,\n",
       "  2.7114129066467285,\n",
       "  1.7069997787475586,\n",
       "  6.409903049468994],\n",
       " 'val_accuracy': [0.59375, 0.5, 0.9375, 0.96875, 0.6875],\n",
       " 'val_precision': [0.0, 1.0, 1.0, 1.0, 1.0],\n",
       " 'val_recall': [0.0,\n",
       "  0.05882352963089943,\n",
       "  0.875,\n",
       "  0.9333333373069763,\n",
       "  0.4736842215061188]}"
      ]
     },
     "metadata": {},
     "execution_count": 25
    }
   ],
   "source": [
    "model.save('F:/X_ray_Models/Densenet169_xray_model_174_2')\n",
    "\n",
    "history.history"
   ]
  },
  {
   "cell_type": "code",
   "execution_count": 26,
   "metadata": {},
   "outputs": [
    {
     "output_type": "stream",
     "name": "stdout",
     "text": [
      "2/2 [==============================] - 4s 713ms/step - loss: 3.5998 - accuracy: 0.7750 - precision: 1.0000 - recall: 0.5500\n"
     ]
    }
   ],
   "source": [
    "results = model.evaluate(test_gen, batch_size=10)"
   ]
  },
  {
   "cell_type": "code",
   "execution_count": 27,
   "metadata": {},
   "outputs": [
    {
     "output_type": "stream",
     "name": "stdout",
     "text": [
      "2/2 [==============================] - 6s 701ms/step\n"
     ]
    }
   ],
   "source": [
    "y_pred = model.predict(test_gen, verbose=1)\n",
    "\n",
    "#y_pred = np.argmax(y_pred, axis = 1)\n",
    "\n",
    "\n",
    "for i in range(len(y_pred)):\n",
    "    if y_pred[i]>=0.5:\n",
    "        y_pred[i]=1\n",
    "    else:\n",
    "        y_pred[i]=0"
   ]
  },
  {
   "cell_type": "code",
   "execution_count": 28,
   "metadata": {},
   "outputs": [],
   "source": [
    "y_true=test_gen.labels"
   ]
  },
  {
   "cell_type": "code",
   "execution_count": 29,
   "metadata": {},
   "outputs": [
    {
     "output_type": "stream",
     "name": "stdout",
     "text": [
      "              precision    recall  f1-score   support\n\n           0       0.52      0.75      0.61        20\n           1       0.55      0.30      0.39        20\n\n    accuracy                           0.53        40\n   macro avg       0.53      0.53      0.50        40\nweighted avg       0.53      0.53      0.50        40\n\n"
     ]
    }
   ],
   "source": [
    "from sklearn.metrics import classification_report\n",
    "\n",
    "print(classification_report(y_true, y_pred))\n"
   ]
  },
  {
   "cell_type": "code",
   "execution_count": 30,
   "metadata": {},
   "outputs": [
    {
     "output_type": "execute_result",
     "data": {
      "text/plain": [
       "array([[15,  5],\n",
       "       [14,  6]], dtype=int64)"
      ]
     },
     "metadata": {},
     "execution_count": 30
    }
   ],
   "source": [
    "from sklearn.metrics import confusion_matrix\n",
    "confusion_matrix(y_true, y_pred)"
   ]
  },
  {
   "cell_type": "code",
   "execution_count": 31,
   "metadata": {},
   "outputs": [
    {
     "output_type": "stream",
     "name": "stdout",
     "text": [
      "2/2 [==============================] - 4s 844ms/step - loss: 3.5998 - accuracy: 0.7750 - precision: 1.0000 - recall: 0.5500\n"
     ]
    }
   ],
   "source": [
    "results = model.evaluate(test_gen, batch_size=128)"
   ]
  }
 ]
}