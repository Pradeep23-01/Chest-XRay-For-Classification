{
 "metadata": {
  "language_info": {
   "codemirror_mode": {
    "name": "ipython",
    "version": 3
   },
   "file_extension": ".py",
   "mimetype": "text/x-python",
   "name": "python",
   "nbconvert_exporter": "python",
   "pygments_lexer": "ipython3",
   "version": "3.8.5"
  },
  "orig_nbformat": 2,
  "kernelspec": {
   "name": "python385jvsc74a57bd0b64de0ba76e769a7c3088015f258876bdb4240a199c36c507f14d2fb10bd5d74",
   "display_name": "Python 3.8.5 64-bit ('base': conda)"
  }
 },
 "nbformat": 4,
 "nbformat_minor": 2,
 "cells": [
  {
   "cell_type": "code",
   "execution_count": 10,
   "metadata": {},
   "outputs": [],
   "source": [
    "import numpy as np\n",
    "import tensorflow as tf\n",
    "from tensorflow import keras\n",
    "from tensorflow.keras import layers\n",
    "import tensorflow_addons as tfa"
   ]
  },
  {
   "cell_type": "code",
   "execution_count": 11,
   "metadata": {},
   "outputs": [],
   "source": [
    "TRAINING_DIR = '/Users/mprad/Med_Img/train'\n",
    "TEST_DIR='/Users/mprad/Med_Img/test'\n",
    "VAL_DIR='/Users/mprad/Med_Img/val'"
   ]
  },
  {
   "cell_type": "code",
   "execution_count": 12,
   "metadata": {},
   "outputs": [],
   "source": [
    "num_classes = 3\n",
    "IMG_SIZE = 224\n",
    "BATCH_SIZE = 64\n",
    "input_shape = (224,224, 3)\n",
    "\n",
    "learning_rate = 0.001\n",
    "weight_decay = 0.0001\n",
    "num_epochs = 10\n"
   ]
  },
  {
   "cell_type": "code",
   "execution_count": 13,
   "metadata": {},
   "outputs": [
    {
     "output_type": "stream",
     "name": "stdout",
     "text": [
      "Found 9674 images belonging to 3 classes.\n"
     ]
    }
   ],
   "source": [
    "from keras_preprocessing.image import ImageDataGenerator\n",
    "\n",
    "# Training IDG\n",
    "train_idg = ImageDataGenerator(\n",
    "    rescale = 1./255, \n",
    "    rotation_range=10,\n",
    "    width_shift_range=0.1,\n",
    "    height_shift_range=0.1, \n",
    "    shear_range=0.1, \n",
    "    zoom_range=0.1,\n",
    "    horizontal_flip=True,\n",
    "    validation_split=0.2)\n",
    "\n",
    "# Training Gen\n",
    "train_gen = train_idg.flow_from_directory(\n",
    "    TRAINING_DIR,\n",
    "    target_size=(IMG_SIZE,IMG_SIZE),\n",
    "    batch_size=BATCH_SIZE,\n",
    "    shuffle=True,\n",
    "    class_mode='categorical',\n",
    "    subset='training'\n",
    ")"
   ]
  },
  {
   "cell_type": "code",
   "execution_count": 14,
   "metadata": {},
   "outputs": [
    {
     "output_type": "stream",
     "name": "stdout",
     "text": [
      "Found 1208 images belonging to 3 classes.\n"
     ]
    }
   ],
   "source": [
    "val_idg = ImageDataGenerator(\n",
    "    rescale = 1./255, \n",
    "    rotation_range=10,\n",
    "    width_shift_range=0.1,\n",
    "    height_shift_range=0.1, \n",
    "    shear_range=0.1, \n",
    "    zoom_range=0.1,\n",
    "    horizontal_flip=True,\n",
    "    validation_split=0.2)\n",
    "\n",
    "# Training Gen\n",
    "val_gen = train_idg.flow_from_directory(\n",
    "    VAL_DIR,\n",
    "    target_size=(IMG_SIZE,IMG_SIZE),\n",
    "    batch_size=BATCH_SIZE,\n",
    "    shuffle=True,\n",
    "    class_mode='categorical',\n",
    "    subset='training'\n",
    ")"
   ]
  },
  {
   "cell_type": "code",
   "execution_count": 15,
   "metadata": {},
   "outputs": [
    {
     "output_type": "stream",
     "name": "stdout",
     "text": [
      "Found 301 images belonging to 3 classes.\n"
     ]
    }
   ],
   "source": [
    "test_idg = ImageDataGenerator(rescale=1./255)\n",
    "\n",
    "# Test Gen\n",
    "test_gen = train_idg.flow_from_directory(\n",
    "        TEST_DIR,\n",
    "        target_size=(IMG_SIZE, IMG_SIZE),\n",
    "        batch_size=BATCH_SIZE,\n",
    "        shuffle=True,\n",
    "        class_mode='categorical',\n",
    "        subset='validation'\n",
    ")"
   ]
  },
  {
   "cell_type": "code",
   "execution_count": 16,
   "metadata": {
    "tags": [
     "outputPrepend"
    ]
   },
   "outputs": [
    {
     "output_type": "stream",
     "name": "stdout",
     "text": [
      "____________\nconv5_block5_0_relu (Activation (None, 7, 7, 640)    0           conv5_block5_0_bn[0][0]          \n__________________________________________________________________________________________________\nconv5_block5_1_conv (Conv2D)    (None, 7, 7, 128)    81920       conv5_block5_0_relu[0][0]        \n__________________________________________________________________________________________________\nconv5_block5_1_bn (BatchNormali (None, 7, 7, 128)    512         conv5_block5_1_conv[0][0]        \n__________________________________________________________________________________________________\nconv5_block5_1_relu (Activation (None, 7, 7, 128)    0           conv5_block5_1_bn[0][0]          \n__________________________________________________________________________________________________\nconv5_block5_2_conv (Conv2D)    (None, 7, 7, 32)     36864       conv5_block5_1_relu[0][0]        \n__________________________________________________________________________________________________\nconv5_block5_concat (Concatenat (None, 7, 7, 672)    0           conv5_block4_concat[0][0]        \n                                                                 conv5_block5_2_conv[0][0]        \n__________________________________________________________________________________________________\nconv5_block6_0_bn (BatchNormali (None, 7, 7, 672)    2688        conv5_block5_concat[0][0]        \n__________________________________________________________________________________________________\nconv5_block6_0_relu (Activation (None, 7, 7, 672)    0           conv5_block6_0_bn[0][0]          \n__________________________________________________________________________________________________\nconv5_block6_1_conv (Conv2D)    (None, 7, 7, 128)    86016       conv5_block6_0_relu[0][0]        \n__________________________________________________________________________________________________\nconv5_block6_1_bn (BatchNormali (None, 7, 7, 128)    512         conv5_block6_1_conv[0][0]        \n__________________________________________________________________________________________________\nconv5_block6_1_relu (Activation (None, 7, 7, 128)    0           conv5_block6_1_bn[0][0]          \n__________________________________________________________________________________________________\nconv5_block6_2_conv (Conv2D)    (None, 7, 7, 32)     36864       conv5_block6_1_relu[0][0]        \n__________________________________________________________________________________________________\nconv5_block6_concat (Concatenat (None, 7, 7, 704)    0           conv5_block5_concat[0][0]        \n                                                                 conv5_block6_2_conv[0][0]        \n__________________________________________________________________________________________________\nconv5_block7_0_bn (BatchNormali (None, 7, 7, 704)    2816        conv5_block6_concat[0][0]        \n__________________________________________________________________________________________________\nconv5_block7_0_relu (Activation (None, 7, 7, 704)    0           conv5_block7_0_bn[0][0]          \n__________________________________________________________________________________________________\nconv5_block7_1_conv (Conv2D)    (None, 7, 7, 128)    90112       conv5_block7_0_relu[0][0]        \n__________________________________________________________________________________________________\nconv5_block7_1_bn (BatchNormali (None, 7, 7, 128)    512         conv5_block7_1_conv[0][0]        \n__________________________________________________________________________________________________\nconv5_block7_1_relu (Activation (None, 7, 7, 128)    0           conv5_block7_1_bn[0][0]          \n__________________________________________________________________________________________________\nconv5_block7_2_conv (Conv2D)    (None, 7, 7, 32)     36864       conv5_block7_1_relu[0][0]        \n__________________________________________________________________________________________________\nconv5_block7_concat (Concatenat (None, 7, 7, 736)    0           conv5_block6_concat[0][0]        \n                                                                 conv5_block7_2_conv[0][0]        \n__________________________________________________________________________________________________\nconv5_block8_0_bn (BatchNormali (None, 7, 7, 736)    2944        conv5_block7_concat[0][0]        \n__________________________________________________________________________________________________\nconv5_block8_0_relu (Activation (None, 7, 7, 736)    0           conv5_block8_0_bn[0][0]          \n__________________________________________________________________________________________________\nconv5_block8_1_conv (Conv2D)    (None, 7, 7, 128)    94208       conv5_block8_0_relu[0][0]        \n__________________________________________________________________________________________________\nconv5_block8_1_bn (BatchNormali (None, 7, 7, 128)    512         conv5_block8_1_conv[0][0]        \n__________________________________________________________________________________________________\nconv5_block8_1_relu (Activation (None, 7, 7, 128)    0           conv5_block8_1_bn[0][0]          \n__________________________________________________________________________________________________\nconv5_block8_2_conv (Conv2D)    (None, 7, 7, 32)     36864       conv5_block8_1_relu[0][0]        \n__________________________________________________________________________________________________\nconv5_block8_concat (Concatenat (None, 7, 7, 768)    0           conv5_block7_concat[0][0]        \n                                                                 conv5_block8_2_conv[0][0]        \n__________________________________________________________________________________________________\nconv5_block9_0_bn (BatchNormali (None, 7, 7, 768)    3072        conv5_block8_concat[0][0]        \n__________________________________________________________________________________________________\nconv5_block9_0_relu (Activation (None, 7, 7, 768)    0           conv5_block9_0_bn[0][0]          \n__________________________________________________________________________________________________\nconv5_block9_1_conv (Conv2D)    (None, 7, 7, 128)    98304       conv5_block9_0_relu[0][0]        \n__________________________________________________________________________________________________\nconv5_block9_1_bn (BatchNormali (None, 7, 7, 128)    512         conv5_block9_1_conv[0][0]        \n__________________________________________________________________________________________________\nconv5_block9_1_relu (Activation (None, 7, 7, 128)    0           conv5_block9_1_bn[0][0]          \n__________________________________________________________________________________________________\nconv5_block9_2_conv (Conv2D)    (None, 7, 7, 32)     36864       conv5_block9_1_relu[0][0]        \n__________________________________________________________________________________________________\nconv5_block9_concat (Concatenat (None, 7, 7, 800)    0           conv5_block8_concat[0][0]        \n                                                                 conv5_block9_2_conv[0][0]        \n__________________________________________________________________________________________________\nconv5_block10_0_bn (BatchNormal (None, 7, 7, 800)    3200        conv5_block9_concat[0][0]        \n__________________________________________________________________________________________________\nconv5_block10_0_relu (Activatio (None, 7, 7, 800)    0           conv5_block10_0_bn[0][0]         \n__________________________________________________________________________________________________\nconv5_block10_1_conv (Conv2D)   (None, 7, 7, 128)    102400      conv5_block10_0_relu[0][0]       \n__________________________________________________________________________________________________\nconv5_block10_1_bn (BatchNormal (None, 7, 7, 128)    512         conv5_block10_1_conv[0][0]       \n__________________________________________________________________________________________________\nconv5_block10_1_relu (Activatio (None, 7, 7, 128)    0           conv5_block10_1_bn[0][0]         \n__________________________________________________________________________________________________\nconv5_block10_2_conv (Conv2D)   (None, 7, 7, 32)     36864       conv5_block10_1_relu[0][0]       \n__________________________________________________________________________________________________\nconv5_block10_concat (Concatena (None, 7, 7, 832)    0           conv5_block9_concat[0][0]        \n                                                                 conv5_block10_2_conv[0][0]       \n__________________________________________________________________________________________________\nconv5_block11_0_bn (BatchNormal (None, 7, 7, 832)    3328        conv5_block10_concat[0][0]       \n__________________________________________________________________________________________________\nconv5_block11_0_relu (Activatio (None, 7, 7, 832)    0           conv5_block11_0_bn[0][0]         \n__________________________________________________________________________________________________\nconv5_block11_1_conv (Conv2D)   (None, 7, 7, 128)    106496      conv5_block11_0_relu[0][0]       \n__________________________________________________________________________________________________\nconv5_block11_1_bn (BatchNormal (None, 7, 7, 128)    512         conv5_block11_1_conv[0][0]       \n__________________________________________________________________________________________________\nconv5_block11_1_relu (Activatio (None, 7, 7, 128)    0           conv5_block11_1_bn[0][0]         \n__________________________________________________________________________________________________\nconv5_block11_2_conv (Conv2D)   (None, 7, 7, 32)     36864       conv5_block11_1_relu[0][0]       \n__________________________________________________________________________________________________\nconv5_block11_concat (Concatena (None, 7, 7, 864)    0           conv5_block10_concat[0][0]       \n                                                                 conv5_block11_2_conv[0][0]       \n__________________________________________________________________________________________________\nconv5_block12_0_bn (BatchNormal (None, 7, 7, 864)    3456        conv5_block11_concat[0][0]       \n__________________________________________________________________________________________________\nconv5_block12_0_relu (Activatio (None, 7, 7, 864)    0           conv5_block12_0_bn[0][0]         \n__________________________________________________________________________________________________\nconv5_block12_1_conv (Conv2D)   (None, 7, 7, 128)    110592      conv5_block12_0_relu[0][0]       \n__________________________________________________________________________________________________\nconv5_block12_1_bn (BatchNormal (None, 7, 7, 128)    512         conv5_block12_1_conv[0][0]       \n__________________________________________________________________________________________________\nconv5_block12_1_relu (Activatio (None, 7, 7, 128)    0           conv5_block12_1_bn[0][0]         \n__________________________________________________________________________________________________\nconv5_block12_2_conv (Conv2D)   (None, 7, 7, 32)     36864       conv5_block12_1_relu[0][0]       \n__________________________________________________________________________________________________\nconv5_block12_concat (Concatena (None, 7, 7, 896)    0           conv5_block11_concat[0][0]       \n                                                                 conv5_block12_2_conv[0][0]       \n__________________________________________________________________________________________________\nconv5_block13_0_bn (BatchNormal (None, 7, 7, 896)    3584        conv5_block12_concat[0][0]       \n__________________________________________________________________________________________________\nconv5_block13_0_relu (Activatio (None, 7, 7, 896)    0           conv5_block13_0_bn[0][0]         \n__________________________________________________________________________________________________\nconv5_block13_1_conv (Conv2D)   (None, 7, 7, 128)    114688      conv5_block13_0_relu[0][0]       \n__________________________________________________________________________________________________\nconv5_block13_1_bn (BatchNormal (None, 7, 7, 128)    512         conv5_block13_1_conv[0][0]       \n__________________________________________________________________________________________________\nconv5_block13_1_relu (Activatio (None, 7, 7, 128)    0           conv5_block13_1_bn[0][0]         \n__________________________________________________________________________________________________\nconv5_block13_2_conv (Conv2D)   (None, 7, 7, 32)     36864       conv5_block13_1_relu[0][0]       \n__________________________________________________________________________________________________\nconv5_block13_concat (Concatena (None, 7, 7, 928)    0           conv5_block12_concat[0][0]       \n                                                                 conv5_block13_2_conv[0][0]       \n__________________________________________________________________________________________________\nconv5_block14_0_bn (BatchNormal (None, 7, 7, 928)    3712        conv5_block13_concat[0][0]       \n__________________________________________________________________________________________________\nconv5_block14_0_relu (Activatio (None, 7, 7, 928)    0           conv5_block14_0_bn[0][0]         \n__________________________________________________________________________________________________\nconv5_block14_1_conv (Conv2D)   (None, 7, 7, 128)    118784      conv5_block14_0_relu[0][0]       \n__________________________________________________________________________________________________\nconv5_block14_1_bn (BatchNormal (None, 7, 7, 128)    512         conv5_block14_1_conv[0][0]       \n__________________________________________________________________________________________________\nconv5_block14_1_relu (Activatio (None, 7, 7, 128)    0           conv5_block14_1_bn[0][0]         \n__________________________________________________________________________________________________\nconv5_block14_2_conv (Conv2D)   (None, 7, 7, 32)     36864       conv5_block14_1_relu[0][0]       \n__________________________________________________________________________________________________\nconv5_block14_concat (Concatena (None, 7, 7, 960)    0           conv5_block13_concat[0][0]       \n                                                                 conv5_block14_2_conv[0][0]       \n__________________________________________________________________________________________________\nconv5_block15_0_bn (BatchNormal (None, 7, 7, 960)    3840        conv5_block14_concat[0][0]       \n__________________________________________________________________________________________________\nconv5_block15_0_relu (Activatio (None, 7, 7, 960)    0           conv5_block15_0_bn[0][0]         \n__________________________________________________________________________________________________\nconv5_block15_1_conv (Conv2D)   (None, 7, 7, 128)    122880      conv5_block15_0_relu[0][0]       \n__________________________________________________________________________________________________\nconv5_block15_1_bn (BatchNormal (None, 7, 7, 128)    512         conv5_block15_1_conv[0][0]       \n__________________________________________________________________________________________________\nconv5_block15_1_relu (Activatio (None, 7, 7, 128)    0           conv5_block15_1_bn[0][0]         \n__________________________________________________________________________________________________\nconv5_block15_2_conv (Conv2D)   (None, 7, 7, 32)     36864       conv5_block15_1_relu[0][0]       \n__________________________________________________________________________________________________\nconv5_block15_concat (Concatena (None, 7, 7, 992)    0           conv5_block14_concat[0][0]       \n                                                                 conv5_block15_2_conv[0][0]       \n__________________________________________________________________________________________________\nconv5_block16_0_bn (BatchNormal (None, 7, 7, 992)    3968        conv5_block15_concat[0][0]       \n__________________________________________________________________________________________________\nconv5_block16_0_relu (Activatio (None, 7, 7, 992)    0           conv5_block16_0_bn[0][0]         \n__________________________________________________________________________________________________\nconv5_block16_1_conv (Conv2D)   (None, 7, 7, 128)    126976      conv5_block16_0_relu[0][0]       \n__________________________________________________________________________________________________\nconv5_block16_1_bn (BatchNormal (None, 7, 7, 128)    512         conv5_block16_1_conv[0][0]       \n__________________________________________________________________________________________________\nconv5_block16_1_relu (Activatio (None, 7, 7, 128)    0           conv5_block16_1_bn[0][0]         \n__________________________________________________________________________________________________\nconv5_block16_2_conv (Conv2D)   (None, 7, 7, 32)     36864       conv5_block16_1_relu[0][0]       \n__________________________________________________________________________________________________\nconv5_block16_concat (Concatena (None, 7, 7, 1024)   0           conv5_block15_concat[0][0]       \n                                                                 conv5_block16_2_conv[0][0]       \n__________________________________________________________________________________________________\nbn (BatchNormalization)         (None, 7, 7, 1024)   4096        conv5_block16_concat[0][0]       \n__________________________________________________________________________________________________\nrelu (Activation)               (None, 7, 7, 1024)   0           bn[0][0]                         \n__________________________________________________________________________________________________\nflatten_2 (Flatten)             (None, 50176)        0           relu[0][0]                       \n__________________________________________________________________________________________________\ndropout_6 (Dropout)             (None, 50176)        0           flatten_2[0][0]                  \n__________________________________________________________________________________________________\ndense_6 (Dense)                 (None, 2048)         102762496   dropout_6[0][0]                  \n__________________________________________________________________________________________________\nbatch_normalization_4 (BatchNor (None, 2048)         8192        dense_6[0][0]                    \n__________________________________________________________________________________________________\ndropout_7 (Dropout)             (None, 2048)         0           batch_normalization_4[0][0]      \n__________________________________________________________________________________________________\ndense_7 (Dense)                 (None, 2048)         4196352     dropout_7[0][0]                  \n__________________________________________________________________________________________________\nbatch_normalization_5 (BatchNor (None, 2048)         8192        dense_7[0][0]                    \n__________________________________________________________________________________________________\ndropout_8 (Dropout)             (None, 2048)         0           batch_normalization_5[0][0]      \n__________________________________________________________________________________________________\ndense_8 (Dense)                 (None, 3)            6147        dropout_8[0][0]                  \n==================================================================================================\nTotal params: 114,018,883\nTrainable params: 106,973,187\nNon-trainable params: 7,045,696\n__________________________________________________________________________________________________\n"
     ]
    }
   ],
   "source": [
    "inputs = keras.Input(shape=(IMG_SIZE, IMG_SIZE, 3))\n",
    "\n",
    "from tensorflow.keras.optimizers import Adam\n",
    "\n",
    "base_model = keras.applications.DenseNet121(\n",
    "    weights = 'imagenet',\n",
    "    input_shape=(IMG_SIZE, IMG_SIZE, 3),\n",
    "    include_top=False)\n",
    "\n",
    "base_model.trainable = False\n",
    "\n",
    "x = base_model.output\n",
    "x = keras.layers.Flatten()(x)\n",
    "x = keras.layers.Dropout(0.4)(x)\n",
    "x = keras.layers.Dense(2048, activation='relu')(x)\n",
    "x = keras.layers.BatchNormalization()(x)\n",
    "x = keras.layers.Dropout(0.4)(x)\n",
    "x = keras.layers.Dense(2048, activation='relu')(x)\n",
    "x = keras.layers.BatchNormalization()(x)\n",
    "x = keras.layers.Dropout(0.2)(x)\n",
    "outputs = keras.layers.Dense(num_classes, activation='softmax')(x)\n",
    "\n",
    "# se acopla el modelo\n",
    "model = keras.Model(base_model.input, outputs)\n",
    "\n",
    "# congelar capas\n",
    "for layer in base_model.layers:\n",
    "    layer.trainable = False\n",
    "\n",
    "# compilar el modelo.\n",
    "model.compile(loss='categorical_crossentropy',\n",
    "              optimizer=Adam(lr=0.001),\n",
    "              metrics=['accuracy'])\n",
    "\n",
    "model.summary()"
   ]
  },
  {
   "cell_type": "code",
   "execution_count": 18,
   "metadata": {},
   "outputs": [
    {
     "output_type": "stream",
     "name": "stdout",
     "text": [
      "Epoch 1/10\n",
      "151/151 [==============================] - 692s 5s/step - loss: 0.9727 - accuracy: 0.8001 - val_loss: 0.4645 - val_accuracy: 0.8602\n",
      "Epoch 2/10\n",
      "151/151 [==============================] - 682s 5s/step - loss: 0.3813 - accuracy: 0.8649 - val_loss: 0.3286 - val_accuracy: 0.8872\n",
      "Epoch 3/10\n",
      "151/151 [==============================] - 677s 4s/step - loss: 0.3207 - accuracy: 0.8820 - val_loss: 0.3449 - val_accuracy: 0.8898\n",
      "Epoch 4/10\n",
      "151/151 [==============================] - 676s 4s/step - loss: 0.3232 - accuracy: 0.8831 - val_loss: 0.2662 - val_accuracy: 0.9106\n",
      "Epoch 5/10\n",
      "151/151 [==============================] - 677s 4s/step - loss: 0.2926 - accuracy: 0.8984 - val_loss: 0.3034 - val_accuracy: 0.8828\n",
      "Epoch 6/10\n",
      "151/151 [==============================] - 688s 5s/step - loss: 0.2967 - accuracy: 0.8880 - val_loss: 0.2830 - val_accuracy: 0.8967\n",
      "Epoch 7/10\n",
      "151/151 [==============================] - 710s 5s/step - loss: 0.3094 - accuracy: 0.8922 - val_loss: 0.3331 - val_accuracy: 0.8898\n",
      "Epoch 8/10\n",
      "151/151 [==============================] - 676s 4s/step - loss: 0.2920 - accuracy: 0.8940 - val_loss: 0.2944 - val_accuracy: 0.8950\n",
      "Epoch 9/10\n",
      "151/151 [==============================] - 684s 5s/step - loss: 0.2866 - accuracy: 0.8937 - val_loss: 0.2694 - val_accuracy: 0.8872\n",
      "Epoch 10/10\n",
      "151/151 [==============================] - 655s 4s/step - loss: 0.2724 - accuracy: 0.9006 - val_loss: 0.3204 - val_accuracy: 0.8863\n"
     ]
    }
   ],
   "source": [
    "STEP_SIZE_TRAIN = train_gen.n // train_gen.batch_size\n",
    "STEP_SIZE_VALID = val_gen.n // val_gen.batch_size\n",
    "\n",
    "history=model.fit(x = train_gen,\n",
    "          steps_per_epoch = STEP_SIZE_TRAIN,\n",
    "          validation_data = val_gen,\n",
    "          validation_steps = STEP_SIZE_VALID,\n",
    "          epochs = num_epochs)"
   ]
  }
 ]
}